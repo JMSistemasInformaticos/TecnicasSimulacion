{
 "cells": [
  {
   "cell_type": "code",
   "execution_count": 10,
   "metadata": {},
   "outputs": [
    {
     "name": "stdout",
     "output_type": "stream",
     "text": [
      " Datos\t\t Frecuencia\n",
      "0.2-1.2\t 0.22%\n",
      "2.2-3.2\t 0.14%\n",
      "4.2-5.2\t 0.12%\n",
      "6.2-7.2\t 0.09%\n",
      "8.2-9.2\t 0.03%\n",
      "10.2-11.2\t 0.02%\n"
     ]
    }
   ],
   "source": [
    "import pandas as pd\n",
    "import matplotlib.pyplot as plt\n",
    "import numpy as np\n",
    "from math import ceil\n",
    "from scipy import stats\n",
    "\n",
    "datos = ([1.5,7.9,11.7,8.7,2.4,7.2,6.3,3.8,6.9,5.3,\n",
    " 4.8,2,1,0.7,0.4,3.4,5.5,6.2,1.2,4.4,\n",
    " 0.6,0.9,3.9,0.7,1.6,5.2,3.3,0.2,0.2,4.9,\n",
    " 2.4,0.5,1.7,2.7,0.4,2.2,9.3,8,4.7,5.9,\n",
    " 6.4,3.7,4.8,1.5,2.4,3.4,2.5,5.5,0.3,8.7,\n",
    " 1.3,10.6,3,9.6,1.9,0.3,2.9,4.8\n",
    " ])\n",
    "\n",
    "\n",
    "\n",
    "#datos = np.genfromtxt('mujeres.txt')\n",
    "\n",
    "def distribucion_frecuencias_relativas(datos, numero_clases):\n",
    "\n",
    "    anchura_clase = (max(datos) - min(datos)) / numero_clases # anchura de clase = (valor más alto) - (valor más bajo) / numero de clases\n",
    "    anchura_clase = ceil(anchura_clase)\n",
    "    clases = [] # ejemplo: clases[[inferior, superior]]\n",
    "    limite_inferior = min(datos)\n",
    "    limite_superior = anchura_clase - 1\n",
    "    frecuencia = []\n",
    "\n",
    "    for i in range(numero_clases):\n",
    "        if len(clases) == 0:\n",
    "            clases.append([limite_inferior, (limite_inferior + limite_superior)])\n",
    "        else:\n",
    "            limite_inferior += anchura_clase\n",
    "            clases.append([limite_inferior, (limite_inferior + limite_superior)])\n",
    "        frecuencia.append([])\n",
    "\n",
    "    for valor in datos:\n",
    "        for i in range(0, numero_clases):\n",
    "            if valor >= clases[i][0] and valor <= clases[i][1]:\n",
    "                frecuencia[i].append(valor)\n",
    "                break   \n",
    "\n",
    "    print(\" Datos\\t\\t\", \"Frecuencia\")\n",
    "    for i in range(0, numero_clases):\n",
    "        print(\"{0}-{1}\\t {2:.2f}%\".format(clases[i][0], clases[i][1], ((len(frecuencia[i]) / len(datos))) ))\n",
    "        \n",
    "\n",
    "distribucion_frecuencias_relativas(datos, numero_clases)\n"
   ]
  },
  {
   "cell_type": "code",
   "execution_count": null,
   "metadata": {},
   "outputs": [],
   "source": []
  },
  {
   "cell_type": "code",
   "execution_count": null,
   "metadata": {},
   "outputs": [],
   "source": []
  }
 ],
 "metadata": {
  "kernelspec": {
   "display_name": "Python 3",
   "language": "python",
   "name": "python3"
  },
  "language_info": {
   "codemirror_mode": {
    "name": "ipython",
    "version": 3
   },
   "file_extension": ".py",
   "mimetype": "text/x-python",
   "name": "python",
   "nbconvert_exporter": "python",
   "pygments_lexer": "ipython3",
   "version": "3.7.3"
  }
 },
 "nbformat": 4,
 "nbformat_minor": 2
}
