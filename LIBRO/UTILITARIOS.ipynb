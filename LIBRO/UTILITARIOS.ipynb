{
 "cells": [
  {
   "cell_type": "markdown",
   "metadata": {},
   "source": [
    "### CODIGO Y UTILIDADES \n",
    "\n",
    "####  DETERMINAR LA RUTA DE TRABAJO\n"
   ]
  },
  {
   "cell_type": "code",
   "execution_count": 1,
   "metadata": {},
   "outputs": [
    {
     "data": {
      "text/plain": [
       "'C:\\\\Users\\\\JORGEANIBAL\\\\LIBRO'"
      ]
     },
     "execution_count": 1,
     "metadata": {},
     "output_type": "execute_result"
    }
   ],
   "source": [
    "import os\n",
    "os.getcwd()\n"
   ]
  },
  {
   "cell_type": "markdown",
   "metadata": {},
   "source": [
    "##### para ver la obtener los datos de un libro excel csv en filas y columnas\n"
   ]
  },
  {
   "cell_type": "code",
   "execution_count": 5,
   "metadata": {},
   "outputs": [
    {
     "name": "stdout",
     "output_type": "stream",
     "text": [
      "RangeIndex(start=0, stop=61, step=1)\n"
     ]
    },
    {
     "data": {
      "text/plain": [
       "Index(['DIA', 'DIASEMANA', 'FECHA', 'TOTAL_PACIENTES', 'ATENDIDOS',\n",
       "       'NO_ATENDIDOS'],\n",
       "      dtype='object')"
      ]
     },
     "execution_count": 5,
     "metadata": {},
     "output_type": "execute_result"
    }
   ],
   "source": [
    "\n",
    "import pandas as pd\n",
    "import numpy as np\n",
    "datos = pd.read_csv('C:/Users/JORGEANIBAL/LIBRO/Data/datos1.csv')\n",
    "\n",
    "print(datos.axes[0])\n",
    "\n",
    "datos.axes[1]\n"
   ]
  },
  {
   "cell_type": "markdown",
   "metadata": {},
   "source": [
    "##### para calcular el max y minimo de las columnas\n"
   ]
  },
  {
   "cell_type": "code",
   "execution_count": 9,
   "metadata": {},
   "outputs": [
    {
     "data": {
      "text/plain": [
       "DIA                       7\n",
       "DIASEMANA           Viernes\n",
       "FECHA              9/5/2017\n",
       "TOTAL_PACIENTES         207\n",
       "ATENDIDOS               152\n",
       "NO_ATENDIDOS             68\n",
       "dtype: object"
      ]
     },
     "execution_count": 9,
     "metadata": {},
     "output_type": "execute_result"
    }
   ],
   "source": [
    "# Maximos\n",
    "datos.max()\n"
   ]
  },
  {
   "cell_type": "code",
   "execution_count": 10,
   "metadata": {},
   "outputs": [
    {
     "data": {
      "text/plain": [
       "DIA                       1\n",
       "DIASEMANA           Domingo\n",
       "FECHA              1/4/2017\n",
       "TOTAL_PACIENTES          68\n",
       "ATENDIDOS                56\n",
       "NO_ATENDIDOS             11\n",
       "dtype: object"
      ]
     },
     "execution_count": 10,
     "metadata": {},
     "output_type": "execute_result"
    }
   ],
   "source": [
    "datos.min()\n"
   ]
  },
  {
   "cell_type": "code",
   "execution_count": null,
   "metadata": {},
   "outputs": [],
   "source": []
  }
 ],
 "metadata": {
  "kernelspec": {
   "display_name": "Python 3",
   "language": "python",
   "name": "python3"
  },
  "language_info": {
   "codemirror_mode": {
    "name": "ipython",
    "version": 3
   },
   "file_extension": ".py",
   "mimetype": "text/x-python",
   "name": "python",
   "nbconvert_exporter": "python",
   "pygments_lexer": "ipython3",
   "version": "3.7.3"
  }
 },
 "nbformat": 4,
 "nbformat_minor": 2
}
