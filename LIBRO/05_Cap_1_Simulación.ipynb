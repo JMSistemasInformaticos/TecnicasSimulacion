{
 "cells": [
  {
   "cell_type": "markdown",
   "metadata": {},
   "source": [
    "### CAPITULO V  SIMULACIÓN\n",
    "\n",
    "#### 5.1 Introducción.  \n"
   ]
  },
  {
   "cell_type": "markdown",
   "metadata": {},
   "source": [
    "La **Simulación** es el producto de: El estudio **del Sistema**, la **Modelación de los componentes del sistema**, la utilización de **Técnicas y herramientas estadísticas, números aleatorios y pronósticos** vista en los capitulos anteriores para obtener un completo **informe de resultados** junto con la utilización de un **Lenguaje de programación** que nos permita realizar el **análisis de datos**  y la programación de eventos discretos o continuos, facilitando así un diseño equilibrado de un sistema con el objetivo de **imitar** el comportamiento del sistema real para proposito de predicción y utilización de sus resultados en la toma de decisiones.\n",
    "\n",
    "En la descripción del sistema y sus componentes por medio de un modelo, encontramos que en algunos casos el sistema es muy complicado para describirlo o el modelo una vez deducido, nos permite solo una solución análitica. \n",
    "\n",
    "La **modelación y la simulación** nos permite desarrollar una solución a los problemas partiendo de Formulación de un modelo matemático que represente el problema, relacionando a las variables de decisión con los parámetros y restricciones del sistema. Los parámetros (o cantidades conocidas) se pueden obtener ya sea a partir de datos pasados o estimados por medio de algún método estadístico.\n",
    "\n",
    "#### Que es simular\n",
    "Es un método que puede usarse para describir o predecir el comportamiento de un sistema con ciertas opciones dadas de los datos de entrada controlables y generados al azar, que produzcan condiciones deseables a los sistemas.\n",
    "En este sentido, la simulación puede ser una herramienta efectiva para diseñar un sistema que funcione bien y se valide para su utilización en la toma de decisiones.\n",
    "\n",
    "**(Thomas H. Naylor)**   indica que la “Simulación es una técnica numérica para conducir experimentos en una computadora digital. Estos experimentos comprenden ciertos tipos de relaciones matemáticas y lógicos, las cuales son necesarias para describir el comportamiento y la estructura de sistemas complejos del mundo real a través de largos períodos de tiempo.”\n",
    "\n",
    "\n",
    "#### ¿Para que estudiamos simulación.\n",
    "\n",
    "Analiza, modela, imita, valida el sistema para comprobar si su comportamiento funciona igual o mejor que el sistema real.\n",
    "Ejemplos:\n",
    "\n",
    "- Simulación Monte Carlo\n",
    "- Operación de un banco\n",
    "- Funcionamiento de una línea de producción\n",
    "- Sistema de Líneas de Espera\n",
    "- Simulación de inventarios\n",
    "- Desarrollo de nuevos productos\n",
    "- Reserva excesiva de boletos de avión\n",
    "- Política de inventario\n",
    "- Flujo de Trafico\n",
    "\n",
    "#### ¿En qué consiste?\n",
    "\n",
    "1. Análisis o Definición del Sistema donde exista un problema a solucionar\n",
    "2. Desarrollo formal del modelo(formulación del Modelo)\n",
    "3. Recolección de Datos\n",
    "4. Implementación vía software\n",
    "5. Verificación\n",
    "6. Validación\n",
    "\n",
    "    - **Simulación (experimentación):**\n",
    "        - Definir los eventos del modelo\n",
    "        - Definir las medidas de efectividad\n",
    "        - Ingresar los datos de prueba\n",
    "        - Análisis de los resultados vs el modelo\n",
    "        - Puesta a punto del modelo\n",
    "        - Depuración de resultados\n",
    "        - Interpretación de Resultados\n",
    "        - Documentación\n",
    "\n",
    "#### Razones para simular\n",
    "\n",
    "    - La simulación es una valiosa herramienta que puede para una amplia variedad de problemas prácticos de la via real, en este libro nos hemos enfocados a soluciones que utilizan las diferentes empresas para la toma de decisiones.\n",
    "    \n",
    "    - La simulación es relativamente fácil de explicar y entender. Por consiguiente, la confianza de la gerencia se incrementa, y sus resultados cada vez van siendo importantes para optimizar la mayoria de procesos y actividades de las empresas.\n",
    "    - Hoy es parte vital em la empresa la utilización de **Simuladores** sobre diferentes temáticas, es por eso que los desarrolladores de software van produciendo gran cantidad de paquetes de simulación, diferentes \"FrameWorks\" que facititan el acceso a muchos profesionales de diferentes especialidaddes.\n",
    "    \n",
    "\n",
    "#### Aplicaciones de la Simulación\n",
    "    - Simulación para sistemas de distribución\n",
    "    - Simulación para reducir el desperdicio\n",
    "    - Aplicación de planificación de proyectos\n",
    "    - Simulación de utilización de Quirófanos en Hospitales\n",
    "    - **Simulación de Control de Inventarios**\n",
    "    - Simulación de puertos (numero de barcos que atracan)\n",
    "    - Simulación de aeropuertos\n",
    "    - **Simulación de Líneas de espera**\n",
    "    "
   ]
  },
  {
   "cell_type": "markdown",
   "metadata": {},
   "source": [
    "##### Software de Simulación\n",
    "En el mercado existe programas de software de Simulación como:\n",
    "   - Propietarios:\n",
    "       - ProModel\n",
    "       - Arena\n",
    "       - FlexSim\n",
    "       - VenSimm\n",
    "       - etc..\n",
    "     - Libres\n",
    "         AnyLogic\n",
    "         etc..\n",
    "         \n",
    "Muchos de los cuales tiene diferentes funcionalidades:\n",
    "    - Análisis y diseño\n",
    "    - Base de datos especificas\n",
    "    - Herramientas de presentación\n",
    "    - Modelado 3D\n",
    "    - Modelado de eventos continuos\n",
    "    - Modelado de eventos discretos\n",
    "    - Modelado Gráfico\n",
    "    - Simulación Montecarlo\n",
    "    \n",
    "Cada uno de estos software de simulación tiene gran cantidad de información en sus sitios Web, además que existen paginas especializadas donde generan ranquing de utilización, consulta y promoción.\n",
    "\n",
    "\n",
    "\n",
    "         \n",
    "    "
   ]
  },
  {
   "cell_type": "markdown",
   "metadata": {},
   "source": [
    "\n"
   ]
  },
  {
   "cell_type": "markdown",
   "metadata": {},
   "source": [
    "**Constructores de modelos predictivos**. En general, los modelos predictivos para analizar big data tienen que estar hechos a medida. Para crear buenos modelos es esencial contar con un profundo dominio y **conocimiento de la estadística**.\n",
    "\n",
    "Con demasiada frecuencia, las compañías subestiman el nivel de capacitación necesario y contratan a gente que sí ha usado herramientas estadísticas, incluidos algunos modelos desarrollados por otros, pero que no conocen los principios matemáticos subyacentes en los modelos predictivos.\n",
    "\n",
    "Las personas que realizan modelos predictivos también necesitan tener ciertos conocimientos empresariales y entender los mecanismos de recopilación e integración de la información en modelos, aunque en ambos casos pueden apoyarse en otras personas más experimentadas en la creación y refinamiento de los modelos. Otra capacidad clave que deben tener quienes formulan este tipo de modelos es la de evaluar el grado de limpieza, actualidad y amplitud de la información disponible. A menudo existen lagunas o carencias en los datos y el analista tiene que saber cubrirlas.\n"
   ]
  },
  {
   "cell_type": "code",
   "execution_count": null,
   "metadata": {},
   "outputs": [],
   "source": []
  }
 ],
 "metadata": {
  "kernelspec": {
   "display_name": "Python 3",
   "language": "python",
   "name": "python3"
  },
  "language_info": {
   "codemirror_mode": {
    "name": "ipython",
    "version": 3
   },
   "file_extension": ".py",
   "mimetype": "text/x-python",
   "name": "python",
   "nbconvert_exporter": "python",
   "pygments_lexer": "ipython3",
   "version": "3.7.3"
  }
 },
 "nbformat": 4,
 "nbformat_minor": 2
}
